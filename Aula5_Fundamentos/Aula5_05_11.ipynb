{
  "nbformat": 4,
  "nbformat_minor": 0,
  "metadata": {
    "colab": {
      "provenance": [],
      "authorship_tag": "ABX9TyM4KW+5ru5gO0Gi5u465h6z",
      "include_colab_link": true
    },
    "kernelspec": {
      "name": "python3",
      "display_name": "Python 3"
    },
    "language_info": {
      "name": "python"
    }
  },
  "cells": [
    {
      "cell_type": "markdown",
      "metadata": {
        "id": "view-in-github",
        "colab_type": "text"
      },
      "source": [
        "<a href=\"https://colab.research.google.com/github/PedroFatec/Processamento-de-Linguagem-Natural-A914-N-D.S.M.-113-20242/blob/main/Aula5_05_11.ipynb\" target=\"_parent\"><img src=\"https://colab.research.google.com/assets/colab-badge.svg\" alt=\"Open In Colab\"/></a>"
      ]
    },
    {
      "cell_type": "code",
      "execution_count": null,
      "metadata": {
        "id": "Z7Hjh5HtN1Mv"
      },
      "outputs": [],
      "source": []
    },
    {
      "cell_type": "markdown",
      "source": [
        "# Aula 5 - Representação de Texto\n",
        "\n",
        "*Objetivo da Aula:*\n",
        "* Ensinar aos alunos como transformar texto em uma representação numérica através das técnicas Bag of Words e TF-IDS, que são fundamentais para o uso de algoritmos de machine learning que exigem dados numéricos.\n",
        "\n",
        "Aluno: Pedro Henrique Figueira - DSM 6º SEMESTRE"
      ],
      "metadata": {
        "id": "lkFE3ZPON4be"
      }
    },
    {
      "cell_type": "markdown",
      "source": [
        "# Exemplo 1 - Implementando BOW\n",
        "\n",
        "*Criar uma implementação simples de BoW usando CountVectorizer do scikit-learn.*"
      ],
      "metadata": {
        "id": "favXWLMeOM8d"
      }
    },
    {
      "cell_type": "code",
      "source": [
        "from sklearn.feature_extraction.text import CountVectorizer\n",
        "\n",
        "documentos = [\n",
        "    \"gato e cachorro\",\n",
        "    \"gato brinca com cachorro\",\n",
        "    \"gato e rato\",\n",
        "    \"o abacate esta doce.\",\n",
        "    \"Quem não gosta de banana\"\n",
        "]\n",
        "\n",
        "vectorizer = CountVectorizer()  # Instancia o objeto CountVectorizer\n",
        "\n",
        "X = vectorizer.fit_transform(documentos)  # Cria a matriz de termos (BoW) a partir dos documentos\n",
        "\n",
        "print(\"Matriz BoW:\")\n",
        "print(X.toarray())  # Mostra a matriz de frequência de palavras em formato array\n",
        "\n",
        "print(f\"Vocabulario: {vectorizer.vocabulary_}\")  # Exibe o vocabulário de palavras e suas posições na matriz\n"
      ],
      "metadata": {
        "colab": {
          "base_uri": "https://localhost:8080/"
        },
        "id": "RHBmhfVpOLN2",
        "outputId": "e22d725f-28c5-4db6-cdd7-68daf9d424ef"
      },
      "execution_count": 1,
      "outputs": [
        {
          "output_type": "stream",
          "name": "stdout",
          "text": [
            "Matriz BoW:\n",
            "[[0 0 0 1 0 0 0 0 1 0 0 0 0]\n",
            " [0 0 1 1 1 0 0 0 1 0 0 0 0]\n",
            " [0 0 0 0 0 0 0 0 1 0 0 0 1]\n",
            " [1 0 0 0 0 0 1 1 0 0 0 0 0]\n",
            " [0 1 0 0 0 1 0 0 0 1 1 1 0]]\n",
            "Vocabulario: {'gato': 8, 'cachorro': 3, 'brinca': 2, 'com': 4, 'rato': 12, 'abacate': 0, 'esta': 7, 'doce': 6, 'quem': 11, 'não': 10, 'gosta': 9, 'de': 5, 'banana': 1}\n"
          ]
        }
      ]
    },
    {
      "cell_type": "markdown",
      "source": [
        "# Exemplo 2 - Implementando BOW junto com TF-IDF"
      ],
      "metadata": {
        "id": "vtHfNdCxOeBA"
      }
    },
    {
      "cell_type": "code",
      "source": [
        "# Importação das ferramentas que serão utilizadas\n",
        "from sklearn.feature_extraction.text import CountVectorizer  # Para Bag of Words\n",
        "from sklearn.feature_extraction.text import TfidfVectorizer  # Para TF-IDF\n",
        "\n",
        "# Lista de documentos de exemplo\n",
        "documentos = [\n",
        "    \"O cachorro gosta de passear no parque\",  # Documento 1\n",
        "    \"O gato dorme no sofá o dia todo\",       # Documento 2\n",
        "    \"Cachorros e gatos podem ser bons amigos\" # Documento 3\n",
        "]\n",
        "\n",
        "# Vetorização pelo modelo Bag of Words (BoW)\n",
        "vectorizer_bow = CountVectorizer()  # Cria uma instância do modelo BoW\n",
        "X_bow = vectorizer_bow.fit_transform(documentos)  # Transforma os documentos em uma matriz de contagem\n",
        "\n",
        "# Exibe o vocabulário gerado pelo modelo BoW, onde as palavras são mapeadas para índices\n",
        "print(f\"Vocabulario BoW: {vectorizer_bow.vocabulary_}\")\n",
        "\n",
        "# Exibe a matriz BoW como uma matriz densa (array) de contagem de palavras\n",
        "print(\"Matriz BoW:\")\n",
        "print(X_bow.toarray())\n",
        "\n",
        "# Vetorização pelo modelo TF-IDF\n",
        "vectorizer_tfidf = TfidfVectorizer()  # Cria uma instância do modelo TF-IDF\n",
        "X_tfidf = vectorizer_tfidf.fit_transform(documentos)  # Transforma os documentos em uma matriz TF-IDF\n",
        "\n",
        "# Exibe o vocabulário gerado pelo modelo TF-IDF\n",
        "print(f\"\\nVocabulario TF-IDF: {vectorizer_tfidf.vocabulary_}\")\n",
        "\n",
        "# Exibe a matriz TF-IDF como uma matriz densa (array) com os valores ponderados\n",
        "print(\"Matriz TF-IDF:\")\n",
        "print(X_tfidf.toarray())\n"
      ],
      "metadata": {
        "colab": {
          "base_uri": "https://localhost:8080/"
        },
        "id": "ul91p3ZfOf8g",
        "outputId": "c7ff72b6-6885-4d11-dc5c-fb0d06973e9b"
      },
      "execution_count": 2,
      "outputs": [
        {
          "output_type": "stream",
          "name": "stdout",
          "text": [
            "Vocabulario BoW: {'cachorro': 2, 'gosta': 9, 'de': 4, 'passear': 12, 'no': 10, 'parque': 11, 'gato': 7, 'dorme': 6, 'sofá': 15, 'dia': 5, 'todo': 16, 'cachorros': 3, 'gatos': 8, 'podem': 13, 'ser': 14, 'bons': 1, 'amigos': 0}\n",
            "Matriz BoW:\n",
            "[[0 0 1 0 1 0 0 0 0 1 1 1 1 0 0 0 0]\n",
            " [0 0 0 0 0 1 1 1 0 0 1 0 0 0 0 1 1]\n",
            " [1 1 0 1 0 0 0 0 1 0 0 0 0 1 1 0 0]]\n",
            "\n",
            "Vocabulario TF-IDF: {'cachorro': 2, 'gosta': 9, 'de': 4, 'passear': 12, 'no': 10, 'parque': 11, 'gato': 7, 'dorme': 6, 'sofá': 15, 'dia': 5, 'todo': 16, 'cachorros': 3, 'gatos': 8, 'podem': 13, 'ser': 14, 'bons': 1, 'amigos': 0}\n",
            "Matriz TF-IDF:\n",
            "[[0.         0.         0.42339448 0.         0.42339448 0.\n",
            "  0.         0.         0.         0.42339448 0.32200242 0.42339448\n",
            "  0.42339448 0.         0.         0.         0.        ]\n",
            " [0.         0.         0.         0.         0.         0.42339448\n",
            "  0.42339448 0.42339448 0.         0.         0.32200242 0.\n",
            "  0.         0.         0.         0.42339448 0.42339448]\n",
            " [0.40824829 0.40824829 0.         0.40824829 0.         0.\n",
            "  0.         0.         0.40824829 0.         0.         0.\n",
            "  0.         0.40824829 0.40824829 0.         0.        ]]\n"
          ]
        }
      ]
    },
    {
      "cell_type": "markdown",
      "source": [
        "# Exemplo 3 - Aula 4 e Aula 5\n",
        "\n",
        "Construção de um exemplo de pré-processamento e representação de texto:\n",
        "* Limpeza de dados - removendo caracteres indesejados e normalizando o texto.\n",
        "* Tokenização - dividindo o texto em palavras individuais.\n",
        "* Remoção de stopwords - eliminando palavras comuns que não carregam significado semântico importante.\n",
        "* Lematização - reduzindo as palavras à sua forma base.\n",
        "* Representação de Texto - convertendo o texto processado em uma matriz numérica usando o modelo Bag of Words."
      ],
      "metadata": {
        "id": "nw2UWljUOoHo"
      }
    },
    {
      "cell_type": "code",
      "source": [
        "# Importação das bibliotecas necessárias\n",
        "import nltk\n",
        "import re\n",
        "from nltk.corpus import stopwords  # Para acessar as stopwords\n",
        "from nltk.tokenize import word_tokenize  # Para realizar a tokenização das palavras\n",
        "from nltk.stem import WordNetLemmatizer  # Para lemmatização (redução das palavras à sua forma base)\n",
        "from sklearn.feature_extraction.text import CountVectorizer  # Para a vetorização do texto (Bag of Words)\n",
        "\n",
        "# Download dos recursos do NLTK (se necessário)\n",
        "nltk.download('punkt_tab')  # Tokenizador\n",
        "nltk.download('stopwords')  # Stopwords em vários idiomas\n",
        "nltk.download('wordnet')  # Banco de dados de lematização\n",
        "nltk.download('omw-1.4')  # WordNet Open Multilingual Wordnet\n",
        "\n",
        "# Lista de documentos de exemplo\n",
        "documentos = [\n",
        "    \"Os cachorros são animais muito amigáveis e leais!\",\n",
        "    \"Eu gosto de gatos porque eles são independentes e fofos.\",\n",
        "    \"Cachorros e gatos podem ser ótimos animais de estimação.\"\n",
        "]\n",
        "\n",
        "# Instanciando o lematizador e definindo o conjunto de stopwords\n",
        "lemmatizer = WordNetLemmatizer()  # Lematizador para reduzir palavras à sua forma base\n",
        "stop_words = set(stopwords.words(\"portuguese\"))  # Conjunto de palavras irrelevantes no português\n",
        "\n",
        "# Função que realiza o pré-processamento do texto\n",
        "def preprocessar_texto(texto):\n",
        "    # Limpeza: Remove caracteres não alfabéticos e símbolos, mantendo apenas letras e espaços\n",
        "    texto = re.sub(r'[^a-zA-Zá-ÿ\\s]','', texto)\n",
        "\n",
        "    # Tokenização: Quebra o texto em palavras\n",
        "    tokens_tudo = word_tokenize(texto.lower())  # Converte o texto para minúsculo antes da tokenização\n",
        "\n",
        "    # Remoção de stopwords: Filtra palavras irrelevantes\n",
        "    tokens = [palavra for palavra in tokens_tudo if palavra not in stop_words]\n",
        "\n",
        "    # Lematização: Reduz as palavras às suas formas base (ex: \"cachorros\" -> \"cachorro\")\n",
        "    tokens_lema = [lemmatizer.lemmatize(palavra) for palavra in tokens]\n",
        "\n",
        "    # Retorna o texto processado como uma string\n",
        "    return ' '.join(tokens_lema)\n",
        "\n",
        "# Aplica o pré-processamento a todos os documentos\n",
        "documentos_processados = [preprocessar_texto(doc) for doc in documentos]\n",
        "\n",
        "# Exibe os documentos após o pré-processamento\n",
        "print('documentos Pré-processados:')\n",
        "for i, doc in enumerate(documentos_processados):\n",
        "    print(f\"Documento {i + 1}: {doc}\")\n",
        "\n",
        "# Vetorização usando o modelo Bag of Words (BoW)\n",
        "vectorizer = CountVectorizer()  # Instancia o CountVectorizer\n",
        "X_bow = vectorizer.fit_transform(documentos_processados)  # Aplica o vetor de contagem nos documentos\n",
        "\n",
        "# Exibe o vocabulário gerado (palavras mapeadas para índices)\n",
        "print(\"\\nVocabulário BoW:\", vectorizer.vocabulary_)\n",
        "\n",
        "# Exibe a matriz BoW (matriz de contagem das palavras)\n",
        "print(\"Matriz BoW:\")\n",
        "print(X_bow.toarray())\n"
      ],
      "metadata": {
        "colab": {
          "base_uri": "https://localhost:8080/"
        },
        "id": "7Lgu47QVOruZ",
        "outputId": "a284027e-2016-4875-c13b-86791885c727"
      },
      "execution_count": 3,
      "outputs": [
        {
          "output_type": "stream",
          "name": "stderr",
          "text": [
            "[nltk_data] Downloading package punkt_tab to /root/nltk_data...\n",
            "[nltk_data]   Unzipping tokenizers/punkt_tab.zip.\n",
            "[nltk_data] Downloading package stopwords to /root/nltk_data...\n",
            "[nltk_data]   Unzipping corpora/stopwords.zip.\n",
            "[nltk_data] Downloading package wordnet to /root/nltk_data...\n",
            "[nltk_data] Downloading package omw-1.4 to /root/nltk_data...\n"
          ]
        },
        {
          "output_type": "stream",
          "name": "stdout",
          "text": [
            "documentos Pré-processados:\n",
            "Documento 1: cachorros animais amigáveis leais\n",
            "Documento 2: gosto gatos porque independentes fofos\n",
            "Documento 3: cachorros gatos podem ótimos animais estimação\n",
            "\n",
            "Vocabulário BoW: {'cachorros': 2, 'animais': 1, 'amigáveis': 0, 'leais': 8, 'gosto': 6, 'gatos': 5, 'porque': 10, 'independentes': 7, 'fofos': 4, 'podem': 9, 'ótimos': 11, 'estimação': 3}\n",
            "Matriz BoW:\n",
            "[[1 1 1 0 0 0 0 0 1 0 0 0]\n",
            " [0 0 0 0 1 1 1 1 0 0 1 0]\n",
            " [0 1 1 1 0 1 0 0 0 1 0 1]]\n"
          ]
        }
      ]
    }
  ]
}