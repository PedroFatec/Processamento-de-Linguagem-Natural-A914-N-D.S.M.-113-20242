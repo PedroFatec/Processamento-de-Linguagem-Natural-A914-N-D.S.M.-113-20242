{
  "nbformat": 4,
  "nbformat_minor": 0,
  "metadata": {
    "colab": {
      "provenance": [],
      "authorship_tag": "ABX9TyOP/pqXYeInAeJA9UY6SEvl",
      "include_colab_link": true
    },
    "kernelspec": {
      "name": "python3",
      "display_name": "Python 3"
    },
    "language_info": {
      "name": "python"
    }
  },
  "cells": [
    {
      "cell_type": "markdown",
      "metadata": {
        "id": "view-in-github",
        "colab_type": "text"
      },
      "source": [
        "<a href=\"https://colab.research.google.com/github/PedroFatec/Processamento-de-Linguagem-Natural-A914-N-D.S.M.-113-20242/blob/main/Aula6_08_11.ipynb\" target=\"_parent\"><img src=\"https://colab.research.google.com/assets/colab-badge.svg\" alt=\"Open In Colab\"/></a>"
      ]
    },
    {
      "cell_type": "markdown",
      "source": [
        "# Aula 6 - Representação de Texto com Embeddings\n",
        "Aluno: Pedro Henrique Figueira"
      ],
      "metadata": {
        "id": "u0bURopiQxJi"
      }
    },
    {
      "cell_type": "markdown",
      "source": [
        "## Exemplo 1 - Word2Vex"
      ],
      "metadata": {
        "id": "ydrpGwaQQ4xN"
      }
    },
    {
      "cell_type": "code",
      "source": [
        "# Importando a classe Word2Vec da biblioteca Gensim\n",
        "from gensim.models import Word2Vec\n",
        "\n",
        "# Definição do corpus de treinamento - conjunto de frases\n",
        "corpus = [\n",
        "    [\"o\",\"cachorro\",\"está\",\"latindo\"],  # Primeira frase\n",
        "    [\"o\",\"gato\",\"está\",\"miando\"]        # Segunda frase\n",
        "]\n",
        "\n",
        "# Treinamento do modelo Word2Vec com os seguintes parâmetros:\n",
        "model = Word2Vec(\n",
        "    sentences=corpus,        # O corpus de frases para treinamento\n",
        "    vector_size=100,         # Tamanho do vetor que representará cada palavra\n",
        "    window=5,                # O tamanho da janela de contexto para capturar palavras próximas\n",
        "    min_count=1,             # Número mínimo de ocorrências para uma palavra ser considerada no treinamento\n",
        "    sg=1                     # 1 para usar o modelo Skip-gram (em vez de CBOW, que é 0)\n",
        ")\n",
        "\n",
        "# Obtendo o vetor de palavras da palavra 'cachorro'\n",
        "vector = model.wv['cachorro']\n",
        "print(vector)  # Exibe o vetor da palavra 'cachorro'\n",
        "\n",
        "# Calculando a similaridade entre as palavras 'gato' e 'cachorro'\n",
        "similarity = model.wv.similarity('gato', 'cachorro')\n",
        "\n",
        "# Exibindo a similaridade\n",
        "print(\"Similaridade entre 'cachorro' e 'gato': \", similarity)\n"
      ],
      "metadata": {
        "colab": {
          "base_uri": "https://localhost:8080/"
        },
        "id": "NcWwK3FmQwDR",
        "outputId": "b40d09f9-e7f9-4772-e797-0f6f9da2f756"
      },
      "execution_count": 1,
      "outputs": [
        {
          "output_type": "stream",
          "name": "stdout",
          "text": [
            "[-8.7274825e-03  2.1301615e-03 -8.7354420e-04 -9.3190884e-03\n",
            " -9.4281426e-03 -1.4107180e-03  4.4324086e-03  3.7040710e-03\n",
            " -6.4986930e-03 -6.8730675e-03 -4.9994122e-03 -2.2868442e-03\n",
            " -7.2502876e-03 -9.6033178e-03 -2.7436293e-03 -8.3628409e-03\n",
            " -6.0388758e-03 -5.6709289e-03 -2.3441375e-03 -1.7069972e-03\n",
            " -8.9569986e-03 -7.3519943e-04  8.1525063e-03  7.6904297e-03\n",
            " -7.2061159e-03 -3.6668312e-03  3.1185520e-03 -9.5707225e-03\n",
            "  1.4764392e-03  6.5244664e-03  5.7464195e-03 -8.7630618e-03\n",
            " -4.5171441e-03 -8.1401607e-03  4.5956374e-05  9.2636338e-03\n",
            "  5.9733056e-03  5.0673080e-03  5.0610625e-03 -3.2429171e-03\n",
            "  9.5521836e-03 -7.3564244e-03 -7.2703874e-03 -2.2653891e-03\n",
            " -7.7856064e-04 -3.2161034e-03 -5.9258583e-04  7.4888230e-03\n",
            " -6.9751858e-04 -1.6249407e-03  2.7443992e-03 -8.3591007e-03\n",
            "  7.8558037e-03  8.5361041e-03 -9.5840869e-03  2.4462664e-03\n",
            "  9.9049713e-03 -7.6658037e-03 -6.9669187e-03 -7.7365171e-03\n",
            "  8.3959233e-03 -6.8133592e-04  9.1444086e-03 -8.1582209e-03\n",
            "  3.7430846e-03  2.6350426e-03  7.4271322e-04  2.3276759e-03\n",
            " -7.4690939e-03 -9.3583735e-03  2.3545765e-03  6.1484552e-03\n",
            "  7.9856887e-03  5.7358947e-03 -7.7733636e-04  8.3061643e-03\n",
            " -9.3363142e-03  3.4061326e-03  2.6675343e-04  3.8572443e-03\n",
            "  7.3857834e-03 -6.7251669e-03  5.5844807e-03 -9.5222248e-03\n",
            " -8.0445886e-04 -8.6887367e-03 -5.0986730e-03  9.2892265e-03\n",
            " -1.8582619e-03  2.9144264e-03  9.0712793e-03  8.9381328e-03\n",
            " -8.2084350e-03 -3.0123137e-03  9.8866057e-03  5.1044310e-03\n",
            " -1.5880871e-03 -8.6920215e-03  2.9615164e-03 -6.6758976e-03]\n",
            "Similaridade entre 'cachorro' e 'gato':  0.13149002\n"
          ]
        }
      ]
    },
    {
      "cell_type": "markdown",
      "source": [
        "## Exemplo 2\n"
      ],
      "metadata": {
        "id": "3WojEiw2Q9NB"
      }
    },
    {
      "cell_type": "code",
      "source": [
        "from gensim.models import Word2Vec\n",
        "\n",
        "# Corpus de treinamento com frases simples\n",
        "corpus = [\n",
        "    [\"o\", \"cachorro\", \"está\", \"latindo\", \"no\", \"quintal\"],  # Exemplo de frase com cachorro\n",
        "    [\"o\", \"gato\", \"está\", \"miando\", \"no\", \"telhado\"],  # Exemplo com gato\n",
        "    [\"o\", \"pássaro\", \"está\", \"voando\", \"no\", \"céu\"],  # Exemplo com pássaro\n",
        "    [\"a\", \"bola\", \"está\", \"rolando\", \"no\", \"chão\"],  # Exemplo com bola\n",
        "    [\"a\", \"criança\", \"está\", \"brincando\", \"com\", \"o\", \"cachorro\"],  # Frase com criança e cachorro\n",
        "    [\"o\", \"gato\", \"e\", \"o\", \"rato\", \"são\", \"inimigos\"],  # Frase com gato e rato\n",
        "    [\"a\", \"água\", \"está\", \"quente\", \"na\", \"caneca\"],  # Exemplo com água\n",
        "    [\"o\", \"sol\", \"está\", \"brilhando\", \"no\", \"céu\"],  # Exemplo com sol\n",
        "    [\"a\", \"lua\", \"está\", \"cheia\", \"hoje\"],  # Exemplo com lua\n",
        "    [\"a\", \"computador\", \"está\", \"ligado\", \"na\", \"mesa\"]  # Exemplo com computador\n",
        "]\n",
        "\n",
        "# Treinando o modelo Word2Vec\n",
        "model = Word2Vec(sentences=corpus, vector_size=100, window=5, min_count=1, sg=1)\n",
        "\n",
        "# 'vector_size=100' define o tamanho do vetor que representa cada palavra.\n",
        "# 'window=5' define o número de palavras ao redor da palavra central que serão usadas como contexto.\n",
        "# 'min_count=1' diz que consideraremos todas as palavras que aparecem pelo menos uma vez.\n",
        "# 'sg=1' usa o modelo Skip-gram (em vez do CBOW que seria com sg=0).\n",
        "\n",
        "# Calculando a similaridade entre \"cachorro\" e \"gato\"\n",
        "print(f\"Similidaridade entre cachorro e gato: {model.wv.similarity('cachorro', 'gato')}\")\n",
        "# \"cachorro\" e \"gato\" são animais frequentemente mencionados em contextos semelhantes (animais domésticos), então esperamos uma alta similaridade.\n",
        "\n",
        "# Calculando a similaridade entre \"cachorro\" e \"bola\"\n",
        "print(f\"Similidaridade entre cachorro e bola: {model.wv.similarity('cachorro', 'bola')}\")\n",
        "# \"cachorro\" e \"bola\" são relacionados em contextos de brincadeiras, mas a similaridade será menor do que entre \"cachorro\" e \"gato\".\n",
        "\n",
        "# Calculando a similaridade entre \"céu\" e \"lua\"\n",
        "print(f\"Similidaridade entre céu e lua: {model.wv.similarity('céu', 'lua')}\")\n",
        "# \"céu\" e \"lua\" estão relacionados em contextos naturais (ambos associados ao ambiente exterior), então esperamos uma boa similaridade.\n",
        "\n",
        "# Calculando a similaridade entre \"computador\" e \"mesa\"\n",
        "print(f\"Similidaridade entre computador e mesa: {model.wv.similarity('computador', 'mesa')}\")\n",
        "# \"computador\" e \"mesa\" estão associados frequentemente em contextos de escritório ou estudo, mas a similaridade pode ser mais moderada.\n"
      ],
      "metadata": {
        "colab": {
          "base_uri": "https://localhost:8080/"
        },
        "id": "AhwCV8F7Q8yV",
        "outputId": "a0a0cec9-a7b2-4a7e-eeff-0a81d39e4467"
      },
      "execution_count": 2,
      "outputs": [
        {
          "output_type": "stream",
          "name": "stdout",
          "text": [
            "Similidaridade entre cachorro e gato: -0.027537165209650993\n",
            "Similidaridade entre cachorro e bola: 0.08071544766426086\n",
            "Similidaridade entre céu e lua: 0.16293543577194214\n",
            "Similidaridade entre computador e mesa: 0.037479717284440994\n"
          ]
        }
      ]
    },
    {
      "cell_type": "markdown",
      "source": [
        "## Exemplo 3 - Glove\n",
        "\n",
        "Neste exemplo será necessário baixar o arquivo de referência do site oficial do projeto GloVe, no repositório da Stanford NLP, acessível pelo link [repositório da Stanford NLP link](https://nlp.stanford.edu/projects/glove/)\n",
        "* Na página, procure pela seção \"Pre-trained word vectors\" e escolha o conjunto Common Crawl (glove.6B). O download incluirá vários arquivos em um arquivo compactado (.zip), com opções de vetores de 50, 100, 200 e 300 dimensões.\n",
        "\n",
        "Passos para usar o glove.6B.100d.txt\n",
        "1. Baixeo arquivo e extraia o conteúdo;\n",
        "2. Escolha a dimensão desejada (O glove.6B.100d.txt representa embeddings com 100 dimensões, um bom equilíbrio entre precisão e eficiência);\n",
        "3. Para carregar o arquivo no Python usanod Gensim, como no exemplo anterior, especifique o caminho para glove.6B.100d.txt após a extração.\n",
        "\n",
        "Para carregar o arquivo salvo no Google Drive no Google Colab siga os passos abaixo:\n",
        "1. Monte o Google Drive no Colab\n",
        "2. Localize o caminho do Arquivo\n",
        "3. Carregue o Arquivo no Python usando o caminho completo\n",
        "\n",
        "> glove_path = '/content/drive/MyDrive/embeddings/glove.6B.100d.txt'\n"
      ],
      "metadata": {
        "id": "a3G4lF5fRDCs"
      }
    },
    {
      "cell_type": "code",
      "source": [
        "# Importação da biblioteca\n",
        "from gensim.models import KeyedVectors\n",
        "\n",
        "# Indicação do caminho do arquivo\n",
        "glove_path = '/content/drive/MyDrive/[FATEC] PLN/glove.6B.100d.txt'\n",
        "\n",
        "# Acesso ao modelo treinado (instanciação)\n",
        "glove_model = KeyedVectors.load_word2vec_format(glove_path, binary=False, no_header=True)\n",
        "  # glove_path >>> caminho do arquivo com o modelo treinado\n",
        "  # binary >>> arquivo em texto (False)\n",
        "  # no_header >>> ignorar o cabeçalho\n",
        "\n",
        "# Método para acessar a similaridade de duas palavras dentro do modelo treinado\n",
        "similaridade = glove_model.similarity('king', 'queen')\n",
        "print(\"Similaridade entre 'king' e 'queen': \", similaridade)\n",
        "\n",
        "# Método de proximidade para uma determinada palavra \"King\"\n",
        "palavras_proximas = glove_model.most_similar('king')\n",
        "print(\"Palavras próximas a 'king': \", palavras_proximas)"
      ],
      "metadata": {
        "id": "hSx_sQkFRFcS"
      },
      "execution_count": null,
      "outputs": []
    },
    {
      "cell_type": "markdown",
      "source": [
        "## Exemplo 4 - FastText\n",
        "\n",
        "Baixar o modelo FastText pré-treinados em português diretamente do site da Meta AI [Facebook AI](https://fasttext.cc/docs/en/crawl-vectors.html)\n",
        "1. Role para baixo até seção \"Download pre-trained word vectors\" e procure o idioma português;\n",
        "2. O modelo em português é chamado cc.pt.300.vec (em formato de texto) ou cc.pt.300.bin (em formato binário);\n",
        "3. Clique para baixar o modelo desejado;\n",
        "4. Carregue o modelo no Google Drive."
      ],
      "metadata": {
        "id": "li6Vrlb6RHzv"
      }
    },
    {
      "cell_type": "code",
      "source": [
        "# Importação das funcionalidades necessárias para o uso do modelo FastText\n",
        "from gensim.models import fasttext\n",
        "from gensim.models import KeyedVectors\n",
        "\n",
        "# Caminho para o arquivo FastText pré-treinado (modelo com 300 dimensões para o português)\n",
        "fasttext_path = '/content/drive/MyDrive/[FATEC] PLN/cc.pt.300.vec'\n",
        "\n",
        "# Carregamento do modelo FastText em formato compatível com o Word2Vec (ainda que o modelo seja FastText)\n",
        "# O arquivo está em formato texto (não binário), por isso 'binary=False' e 'no_header=True' porque o arquivo não contém cabeçalho\n",
        "fasttext_model = KeyedVectors.load_word2vec_format(fasttext_path, binary=False, no_header=True)\n",
        "\n",
        "# Cálculo da similaridade entre as palavras 'gato' e 'gatinhos'\n",
        "# A similaridade vai retornar um valor entre -1 e 1, onde 1 significa palavras muito semelhantes\n",
        "similaridade = fasttext_model.similarity('gato', 'gatinhos')\n",
        "print(f\"Similaridade entre 'gato' e 'gatinhos': {similaridade:.4f}\")\n",
        "# Espera-se que a similaridade seja alta, já que 'gato' e 'gatinhos' são semanticamente muito próximos (diferem apenas em plural)\n",
        "\n",
        "# Cálculo das palavras mais próximas de 'gato'\n",
        "# A função 'most_similar' retorna as palavras que têm vetores próximos a 'gato' no espaço vetorial\n",
        "palavras_proximas = fasttext_model.most_similar('gato')\n",
        "print(\"Palavras mais próximas de 'gato': \")\n",
        "for palavra, score in palavras_proximas:\n",
        "    # Exibe as palavras mais próximas e seus respectivos scores (semelhança)\n",
        "    print(f\"{palavra}: {score:.4f}\")\n"
      ],
      "metadata": {
        "id": "svplJi0rRIkV"
      },
      "execution_count": null,
      "outputs": []
    }
  ]
}